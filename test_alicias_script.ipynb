{
 "cells": [
  {
   "cell_type": "code",
   "execution_count": 2,
   "metadata": {},
   "outputs": [
    {
     "name": "stdin",
     "output_type": "stream",
     "text": [
      "SQL Server:  HW2WIPSQL10\n",
      "Main Database:  Pareto_Arizona\n"
     ]
    },
    {
     "name": "stdout",
     "output_type": "stream",
     "text": [
      "List of tables and fields to check for provider specialty data in:\n",
      "A_MA_004_Import_ProviderInfo (providerPrimarySpecialtyDesc, providerSecondarySpecialtyDesc fields)\n",
      "A_004_Import_ProviderInfo (providerSpecialtyDesc)\n",
      "A_MA_002_Import_MedicalClaims (billingProviderSpecialtyDescription, renderingProviderSpecialtyDescription)\n",
      "A_02_ProviderInformation (ProviderSpecialtyDesc)\n",
      "A_01_MedicalClaims_Merge_ProviderInfo_All (BillingProviderSpecialty, RenderingProviderSpecialty)\n"
     ]
    },
    {
     "name": "stdin",
     "output_type": "stream",
     "text": [
      "Table:  A_004_Import_ProviderInfo\n",
      "Provider Specialty Field 1:  providerSpecialtyDesc\n",
      "Provider Specialty Field 2 (hit enter if no second field needed):  \n"
     ]
    },
    {
     "name": "stdout",
     "output_type": "stream",
     "text": [
      "292\n",
      "**************************************************\n",
      "Pulling specialties from SQL finished in 0.0 minutes\n",
      "Number of distinct specialties: 292\n",
      "No new root combinations. Notebook will continue running!\n",
      "Length of provider specialties prior to updating: 2303\n",
      "Length of provider specialties after updating: 2421\n",
      "118 new specialties added!\n",
      "**************************************************\n",
      "Inserting updated list to ref dbs on SQL servers finished in 0.0 minutes\n",
      "**************************************************\n",
      "Now submit a Data Transfer ticket to get the table copied to PW2WIPSQL01, 'HW2WIPSQL06','HW2WIPSQL09' and 'HW2WIPSQL10'\n",
      "**************************************************\n",
      "**************************************************\n",
      "done! good job! purrr-fect!\n",
      "**************************************************\n",
      "**************************************************\n",
      "───────────────────────────────────────\n",
      "───▐▀▄───────▄▀▌───▄▄▄▄▄▄▄─────────────\n",
      "───▌▒▒▀▄▄▄▄▄▀▒▒▐▄▀▀▒██▒██▒▀▀▄──────────\n",
      "──▐▒▒▒▒▀▒▀▒▀▒▒▒▒▒▒▒▒▒▒▒▒▒▒▒▒▒▀▄────────\n",
      "──▌▒▒▒▒▒▒▒▒▒▒▒▒▒▒▒▄▒▒▒▒▒▒▒▒▒▒▒▒▀▄──────\n",
      "▀█▒▒▒█▌▒▒█▒▒▐█▒▒▒▀▒▒▒▒▒▒▒▒▒▒▒▒▒▒▒▌─────\n",
      "▀▌▒▒▒▒▒▒▀▒▀▒▒▒▒▒▒▀▀▒▒▒▒▒▒▒▒▒▒▒▒▒▒▐───▄▄\n",
      "▐▒▒▒▒▒▒▒▒▒▒▒▒▒▒▒▒▒▒▒▒▒▒▒▒▒▒▒▒▒▒▒▒▒▌▄█▒█\n",
      "▐▒▒▒▒▒▒▒▒▒▒▒▒▒▒▒▒▒▒▒▒▒▒▒▒▒▒▒▒▒▒▒▒▒█▒█▀─\n",
      "▐▒▒▒▒▒▒▒▒▒▒▒▒▒▒▒▒▒▒▒▒▒▒▒▒▒▒▒▒▒▒▒▒▒█▀───\n",
      "▐▒▒▒▒▒▒▒▒▒▒▒▒▒▒▒▒▒▒▒▒▒▒▒▒▒▒▒▒▒▒▒▒▒▌────\n",
      "─▌▒▒▒▒▒▒▒▒▒▒▒▒▒▒▒▒▒▒▒▒▒▒▒▒▒▒▒▒▒▒▒▐─────\n",
      "─▐▒▒▒▒▒▒▒▒▒▒▒▒▒▒▒▒▒▒▒▒▒▒▒▒▒▒▒▒▒▒▒▌─────\n",
      "──▌▒▒▒▒▒▒▒▒▒▒▒▒▒▒▒▒▒▒▒▒▒▒▒▒▒▒▒▒▒▐──────\n",
      "──▐▄▒▒▒▒▒▒▒▒▒▒▒▒▒▒▒▒▒▒▒▒▒▒▒▒▒▒▒▄▌──────\n",
      "────▀▄▄▀▀▀▀▀▄▄▀▀▀▀▀▀▀▄▄▀▀▀▀▀▄▄▀────────\n",
      "\n",
      "IPython CPU timings (estimated):\n",
      "  User   :       0.93 s.\n",
      "  System :       0.11 s.\n",
      "Wall time:      34.66 s.\n",
      "CPU times: user 932 ms, sys: 107 ms, total: 1.04 s\n",
      "Wall time: 34.7 s\n"
     ]
    }
   ],
   "source": [
    "%%time\n",
    "%run -t /mnt/ds/notebooks/AliciaErwin/Provider_Specialty/ProviderSpecialty.py"
   ]
  },
  {
   "cell_type": "code",
   "execution_count": null,
   "metadata": {},
   "outputs": [],
   "source": []
  }
 ],
 "metadata": {
  "kernelspec": {
   "display_name": "Python 3",
   "language": "python",
   "name": "python3"
  },
  "language_info": {
   "codemirror_mode": {
    "name": "ipython",
    "version": 3
   },
   "file_extension": ".py",
   "mimetype": "text/x-python",
   "name": "python",
   "nbconvert_exporter": "python",
   "pygments_lexer": "ipython3",
   "version": "3.6.5"
  }
 },
 "nbformat": 4,
 "nbformat_minor": 2
}
