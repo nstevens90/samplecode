{
 "cells": [
  {
   "cell_type": "markdown",
   "id": "owned-occasions",
   "metadata": {},
   "source": [
    "## prepare envirvonment"
   ]
  },
  {
   "cell_type": "code",
   "execution_count": 1,
   "id": "assumed-blues",
   "metadata": {},
   "outputs": [
    {
     "data": {
      "text/html": [
       "Current session configs: <tt>{'driverMemory': '1G', 'driverCores': 2, 'conf': {'spark.pyspark.python': 'python3', 'spark.pyspark.virtualenv.enabled': 'true', 'spark.pyspark.virtualenv.type': 'native', 'spark.pyspark.virtualenv.bin.path': '/usr/bin/virtualenv', 'spark.files': 's3://pi-pw2-pareto/xgboost_native_model_from_xgb_ESRD_production.pkl-0.bin'}, 'kind': 'pyspark'}</tt><br>"
      ],
      "text/plain": [
       "<IPython.core.display.HTML object>"
      ]
     },
     "metadata": {},
     "output_type": "display_data"
    },
    {
     "data": {
      "text/html": [
       "<table>\n",
       "<tr><th>ID</th><th>YARN Application ID</th><th>Kind</th><th>State</th><th>Spark UI</th><th>Driver log</th><th>User</th><th>Current session?</th></tr><tr><td>161</td><td>application_1649090359691_0192</td><td>pyspark</td><td>idle</td><td><a target=\"_blank\" href=\"http://ip-10-1-5-18.paretointel.io:20888/proxy/application_1649090359691_0192/\">Link</a></td><td><a target=\"_blank\" href=\"http://ip-10-1-4-60.paretointel.io:8042/node/containerlogs/container_1649090359691_0192_01_000001/gasante\">Link</a></td><td>gasante</td><td></td></tr><tr><td>163</td><td>application_1649090359691_0195</td><td>pyspark</td><td>idle</td><td><a target=\"_blank\" href=\"http://ip-10-1-5-18.paretointel.io:20888/proxy/application_1649090359691_0195/\">Link</a></td><td><a target=\"_blank\" href=\"http://ip-10-1-4-19.paretointel.io:8042/node/containerlogs/container_1649090359691_0195_01_000001/whensel\">Link</a></td><td>whensel</td><td></td></tr><tr><td>164</td><td>application_1649090359691_0196</td><td>pyspark</td><td>idle</td><td><a target=\"_blank\" href=\"http://ip-10-1-5-18.paretointel.io:20888/proxy/application_1649090359691_0196/\">Link</a></td><td><a target=\"_blank\" href=\"http://ip-10-1-4-111.paretointel.io:8042/node/containerlogs/container_1649090359691_0196_01_000001/espalding\">Link</a></td><td>espalding</td><td></td></tr></table>"
      ],
      "text/plain": [
       "<IPython.core.display.HTML object>"
      ]
     },
     "metadata": {},
     "output_type": "display_data"
    }
   ],
   "source": [
    "%%configure -f\n",
    "{\n",
    "    \"driverMemory\": \"1G\", \n",
    "    \"driverCores\": 2,\n",
    "    \"conf\":{\n",
    "          \"spark.pyspark.python\": \"python3\",\n",
    "          \"spark.pyspark.virtualenv.enabled\": \"true\",\n",
    "          \"spark.pyspark.virtualenv.type\":\"native\",\n",
    "          \"spark.pyspark.virtualenv.bin.path\":\"/usr/bin/virtualenv\",\n",
    "          \"spark.files\": \"s3://pi-pw2-pareto/xgboost_native_model_from_xgb_ESRD_production.pkl-0.bin\"\n",
    "         }\n",
    "}"
   ]
  },
  {
   "cell_type": "code",
   "execution_count": 2,
   "id": "latest-wallpaper",
   "metadata": {},
   "outputs": [
    {
     "data": {
      "text/html": [
       "Current session configs: <tt>{'driverMemory': '1G', 'driverCores': 2, 'conf': {'spark.pyspark.python': 'python3', 'spark.pyspark.virtualenv.enabled': 'true', 'spark.pyspark.virtualenv.type': 'native', 'spark.pyspark.virtualenv.bin.path': '/usr/bin/virtualenv', 'spark.files': 's3://pi-pw2-pareto/xgboost_native_model_from_xgb_ESRD_production.pkl-0.bin'}, 'kind': 'pyspark'}</tt><br>"
      ],
      "text/plain": [
       "<IPython.core.display.HTML object>"
      ]
     },
     "metadata": {},
     "output_type": "display_data"
    },
    {
     "data": {
      "text/html": [
       "<table>\n",
       "<tr><th>ID</th><th>YARN Application ID</th><th>Kind</th><th>State</th><th>Spark UI</th><th>Driver log</th><th>User</th><th>Current session?</th></tr><tr><td>161</td><td>application_1649090359691_0192</td><td>pyspark</td><td>idle</td><td><a target=\"_blank\" href=\"http://ip-10-1-5-18.paretointel.io:20888/proxy/application_1649090359691_0192/\">Link</a></td><td><a target=\"_blank\" href=\"http://ip-10-1-4-60.paretointel.io:8042/node/containerlogs/container_1649090359691_0192_01_000001/gasante\">Link</a></td><td>gasante</td><td></td></tr><tr><td>163</td><td>application_1649090359691_0195</td><td>pyspark</td><td>idle</td><td><a target=\"_blank\" href=\"http://ip-10-1-5-18.paretointel.io:20888/proxy/application_1649090359691_0195/\">Link</a></td><td><a target=\"_blank\" href=\"http://ip-10-1-4-19.paretointel.io:8042/node/containerlogs/container_1649090359691_0195_01_000001/whensel\">Link</a></td><td>whensel</td><td></td></tr><tr><td>164</td><td>application_1649090359691_0196</td><td>pyspark</td><td>idle</td><td><a target=\"_blank\" href=\"http://ip-10-1-5-18.paretointel.io:20888/proxy/application_1649090359691_0196/\">Link</a></td><td><a target=\"_blank\" href=\"http://ip-10-1-4-111.paretointel.io:8042/node/containerlogs/container_1649090359691_0196_01_000001/espalding\">Link</a></td><td>espalding</td><td></td></tr></table>"
      ],
      "text/plain": [
       "<IPython.core.display.HTML object>"
      ]
     },
     "metadata": {},
     "output_type": "display_data"
    }
   ],
   "source": [
    "%%info"
   ]
  },
  {
   "cell_type": "code",
   "execution_count": 3,
   "id": "acting-charge",
   "metadata": {},
   "outputs": [
    {
     "name": "stdout",
     "output_type": "stream",
     "text": [
      "Starting Spark application\n"
     ]
    },
    {
     "data": {
      "text/html": [
       "<table>\n",
       "<tr><th>ID</th><th>YARN Application ID</th><th>Kind</th><th>State</th><th>Spark UI</th><th>Driver log</th><th>User</th><th>Current session?</th></tr><tr><td>166</td><td>application_1649090359691_0198</td><td>pyspark</td><td>idle</td><td><a target=\"_blank\" href=\"http://ip-10-1-5-18.paretointel.io:20888/proxy/application_1649090359691_0198/\">Link</a></td><td><a target=\"_blank\" href=\"http://ip-10-1-4-79.paretointel.io:8042/node/containerlogs/container_1649090359691_0198_01_000001/nstevenson\">Link</a></td><td>nstevenson</td><td>✔</td></tr></table>"
      ],
      "text/plain": [
       "<IPython.core.display.HTML object>"
      ]
     },
     "metadata": {},
     "output_type": "display_data"
    },
    {
     "data": {
      "application/vnd.jupyter.widget-view+json": {
       "model_id": "ef56aee8b99b4d1fbdf51a30ba155fe6",
       "version_major": 2,
       "version_minor": 0
      },
      "text/plain": [
       "FloatProgress(value=0.0, bar_style='info', description='Progress:', layout=Layout(height='25px', width='50%'),…"
      ]
     },
     "metadata": {},
     "output_type": "display_data"
    },
    {
     "name": "stdout",
     "output_type": "stream",
     "text": [
      "SparkSession available as 'spark'.\n"
     ]
    },
    {
     "data": {
      "application/vnd.jupyter.widget-view+json": {
       "model_id": "f9dac0f91e0f4c01a87be96ae13ea343",
       "version_major": 2,
       "version_minor": 0
      },
      "text/plain": [
       "FloatProgress(value=0.0, bar_style='info', description='Progress:', layout=Layout(height='25px', width='50%'),…"
      ]
     },
     "metadata": {},
     "output_type": "display_data"
    },
    {
     "name": "stderr",
     "output_type": "stream",
     "text": [
      "An error was encountered:\n",
      "No module named 'xgboost'\n",
      "Traceback (most recent call last):\n",
      "ModuleNotFoundError: No module named 'xgboost'\n",
      "\n"
     ]
    }
   ],
   "source": [
    "# Load Pyspark packages\n",
    "from pyspark.sql import functions as F\n",
    "from pyspark.sql.types import *\n",
    "from pyspark.sql.functions import *\n",
    "import xgboost as xgb\n",
    "import shap"
   ]
  },
  {
   "cell_type": "code",
   "execution_count": 4,
   "id": "reduced-curve",
   "metadata": {},
   "outputs": [
    {
     "data": {
      "application/vnd.jupyter.widget-view+json": {
       "model_id": "",
       "version_major": 2,
       "version_minor": 0
      },
      "text/plain": [
       "FloatProgress(value=0.0, bar_style='info', description='Progress:', layout=Layout(height='25px', width='50%'),…"
      ]
     },
     "metadata": {},
     "output_type": "display_data"
    }
   ],
   "source": [
    "# Import Python packages\n",
    "import warnings\n",
    "warnings.filterwarnings(\"ignore\")\n",
    "import pandas as pd\n",
    "#import joblib\n",
    "import numpy as np\n",
    "import random\n",
    "import pickle\n",
    "#from sklearn import linear_model, model_selection, ensemble, svm, naive_bayes, preprocessing\n",
    "#from sklearn.metrics import classification_report, confusion_matrix, accuracy_score, roc_auc_score\n",
    "import getpass\n",
    "import sys\n",
    "import urllib\n",
    "import time\n",
    "from datetime import date\n",
    "#from future.standard_library import install_aliases\n",
    "import xgboost as xgb\n",
    "#from xgboost.sklearn import XGBClassifier\n",
    "import datetime as dt\n",
    "import shap"
   ]
  },
  {
   "cell_type": "code",
   "execution_count": 5,
   "id": "amateur-portable",
   "metadata": {},
   "outputs": [],
   "source": [
    "%%local\n",
    "import warnings\n",
    "warnings.filterwarnings(\"ignore\")\n",
    "import pandas as pd\n",
    "#import joblib\n",
    "import numpy as np\n",
    "import random\n",
    "import pickle\n",
    "#from sklearn import linear_model, model_selection, ensemble, svm, naive_bayes, preprocessing\n",
    "#from sklearn.metrics import classification_report, confusion_matrix, accuracy_score, roc_auc_score\n",
    "import getpass\n",
    "import sys\n",
    "import sqlalchemy\n",
    "import urllib\n",
    "import time\n",
    "from datetime import date\n",
    "#import xgboost as xgb\n",
    "#from xgboost.sklearn import XGBClassifier\n",
    "#import xgboost as xgb\n",
    "import datetime as dt\n",
    "#import shap\n",
    "#from matplotlib import pyplot as plt"
   ]
  },
  {
   "cell_type": "code",
   "execution_count": 6,
   "id": "motivated-scheme",
   "metadata": {},
   "outputs": [
    {
     "data": {
      "application/vnd.jupyter.widget-view+json": {
       "model_id": "",
       "version_major": 2,
       "version_minor": 0
      },
      "text/plain": [
       "FloatProgress(value=0.0, bar_style='info', description='Progress:', layout=Layout(height='25px', width='50%'),…"
      ]
     },
     "metadata": {},
     "output_type": "display_data"
    },
    {
     "name": "stdout",
     "output_type": "stream",
     "text": [
      "0.39.0"
     ]
    }
   ],
   "source": [
    "print(shap.__version__)"
   ]
  },
  {
   "cell_type": "code",
   "execution_count": 9,
   "id": "bronze-bones",
   "metadata": {},
   "outputs": [
    {
     "name": "stdin",
     "output_type": "stream",
     "text": [
      " ············\n"
     ]
    }
   ],
   "source": [
    "%%local\n",
    "import getpass\n",
    "password = getpass.getpass()"
   ]
  },
  {
   "cell_type": "code",
   "execution_count": 10,
   "id": "insured-vaccine",
   "metadata": {},
   "outputs": [
    {
     "data": {
      "application/vnd.jupyter.widget-view+json": {
       "model_id": "",
       "version_major": 2,
       "version_minor": 0
      },
      "text/plain": [
       "FloatProgress(value=0.0, bar_style='info', description='Progress:', layout=Layout(height='25px', width='50%'),…"
      ]
     },
     "metadata": {},
     "output_type": "display_data"
    },
    {
     "name": "stdout",
     "output_type": "stream",
     "text": [
      "Successfully passed 'password' as 'password' to Spark kernel"
     ]
    }
   ],
   "source": [
    "%%send_to_spark -i password -t str -n password"
   ]
  },
  {
   "cell_type": "markdown",
   "id": "future-preserve",
   "metadata": {},
   "source": [
    "## pull data from sql into pyspark"
   ]
  },
  {
   "cell_type": "code",
   "execution_count": 11,
   "id": "instructional-kidney",
   "metadata": {},
   "outputs": [
    {
     "data": {
      "application/vnd.jupyter.widget-view+json": {
       "model_id": "",
       "version_major": 2,
       "version_minor": 0
      },
      "text/plain": [
       "FloatProgress(value=0.0, bar_style='info', description='Progress:', layout=Layout(height='25px', width='50%'),…"
      ]
     },
     "metadata": {},
     "output_type": "display_data"
    }
   ],
   "source": [
    "%%spark\n",
    "\n",
    "hostname = \"HW2WIPSQL10.HEALTHSCAPEADVISORS.NET\"\n",
    "database = \"MartinsPoint_1315\"\n",
    "userName = \"nstevenson\"\n",
    "port = 1433\n",
    "\n",
    "url = f\"jdbc:sqlserver://{hostname}:{port};database={database}\"\n",
    "connectionProperties = {\n",
    "    \"integratedSecurity\" : \"true\",\n",
    "    \"driver\" : \"com.microsoft.sqlserver.jdbc.SQLServerDriver\",\n",
    "    \"authenticationScheme\" :\"NTLM\",\n",
    "    \"domainName\" : \"healthscapeadvisors.net\",\n",
    "    \"userName\"   : \"nstevenson\",\n",
    "    \"password\"   : password\n",
    "}"
   ]
  },
  {
   "cell_type": "code",
   "execution_count": 12,
   "id": "binary-ebony",
   "metadata": {},
   "outputs": [
    {
     "data": {
      "application/vnd.jupyter.widget-view+json": {
       "model_id": "",
       "version_major": 2,
       "version_minor": 0
      },
      "text/plain": [
       "FloatProgress(value=0.0, bar_style='info', description='Progress:', layout=Layout(height='25px', width='50%'),…"
      ]
     },
     "metadata": {},
     "output_type": "display_data"
    }
   ],
   "source": [
    "dfspark_esrd = spark.read.jdbc(url=url, table=\"TEST_ESRDMod_Merge6\", properties=connectionProperties)"
   ]
  },
  {
   "cell_type": "code",
   "execution_count": 13,
   "id": "official-professional",
   "metadata": {},
   "outputs": [
    {
     "data": {
      "application/vnd.jupyter.widget-view+json": {
       "model_id": "",
       "version_major": 2,
       "version_minor": 0
      },
      "text/plain": [
       "FloatProgress(value=0.0, bar_style='info', description='Progress:', layout=Layout(height='25px', width='50%'),…"
      ]
     },
     "metadata": {},
     "output_type": "display_data"
    }
   ],
   "source": [
    "query = \"\"\"(\n",
    "SELECT DISTINCT a.insuredMemberIdentifier, b.ESRD_Flag\n",
    "FROM TEST_ESRDMod_Merge6 a\n",
    "INNER JOIN (\n",
    "SELECT DISTINCT x.HSA_ID, MAX(x.ESRD) AS ESRD_Flag\n",
    "FROM BackendMMRTransform x\n",
    "GROUP BY x.HSA_ID\n",
    ") b\n",
    "ON b.HSA_ID = a.insuredMemberIdentifier\n",
    "\n",
    ")\"\"\""
   ]
  },
  {
   "cell_type": "code",
   "execution_count": 14,
   "id": "crude-alfred",
   "metadata": {},
   "outputs": [
    {
     "data": {
      "application/vnd.jupyter.widget-view+json": {
       "model_id": "",
       "version_major": 2,
       "version_minor": 0
      },
      "text/plain": [
       "FloatProgress(value=0.0, bar_style='info', description='Progress:', layout=Layout(height='25px', width='50%'),…"
      ]
     },
     "metadata": {},
     "output_type": "display_data"
    }
   ],
   "source": [
    "dfspark_flag = spark.read.format(\"jdbc\").option(\"url\", url) \\\n",
    "    .option(\"driver\", \"com.microsoft.sqlserver.jdbc.SQLServerDriver\") \\\n",
    "    .option(\"integratedSecurity\", \"true\").option(\"authenticationScheme\", \"NTLM\").option(\"domainName\", \"healthscapeadvisors.net\") \\\n",
    "    .option(\"userName\", 'nstevenson').option(\"password\", password) \\\n",
    "    .option(\"query\", query).load()"
   ]
  },
  {
   "cell_type": "markdown",
   "id": "polished-chance",
   "metadata": {},
   "source": [
    "## etl data in pyspark"
   ]
  },
  {
   "cell_type": "code",
   "execution_count": 15,
   "id": "bearing-barrel",
   "metadata": {},
   "outputs": [
    {
     "data": {
      "application/vnd.jupyter.widget-view+json": {
       "model_id": "",
       "version_major": 2,
       "version_minor": 0
      },
      "text/plain": [
       "FloatProgress(value=0.0, bar_style='info', description='Progress:', layout=Layout(height='25px', width='50%'),…"
      ]
     },
     "metadata": {},
     "output_type": "display_data"
    }
   ],
   "source": [
    "dfspark_esrd = dfspark_esrd.dropDuplicates()\n",
    "dfspark_esrd = dfspark_esrd.dropDuplicates(subset=['insuredMemberIdentifier', 'insuredMemberGenderCode'])\n",
    "dfspark_esrd = dfspark_esrd.withColumnRenamed('Age','Age1')"
   ]
  },
  {
   "cell_type": "code",
   "execution_count": 16,
   "id": "registered-sleep",
   "metadata": {},
   "outputs": [
    {
     "data": {
      "application/vnd.jupyter.widget-view+json": {
       "model_id": "",
       "version_major": 2,
       "version_minor": 0
      },
      "text/plain": [
       "FloatProgress(value=0.0, bar_style='info', description='Progress:', layout=Layout(height='25px', width='50%'),…"
      ]
     },
     "metadata": {},
     "output_type": "display_data"
    }
   ],
   "source": [
    "dfspark_esrd = dfspark_esrd.withColumn('BTC_721', dfspark_esrd['BTC_721'].cast(FloatType()))\n",
    "dfspark_esrd = dfspark_esrd.withColumn('BTC_722', dfspark_esrd['BTC_722'].cast(FloatType()))\n",
    "dfspark_esrd = dfspark_esrd.withColumn('BTC_723', dfspark_esrd['BTC_723'].cast(FloatType()))\n",
    "dfspark_esrd = dfspark_esrd.withColumn('BTC_724', dfspark_esrd['BTC_724'].cast(FloatType()))\n",
    "dfspark_esrd = dfspark_esrd.withColumn('BTC_727', dfspark_esrd['BTC_727'].cast(FloatType()))\n",
    "dfspark_esrd = dfspark_esrd.withColumn('BTC_728', dfspark_esrd['BTC_728'].cast(FloatType()))\n",
    "dfspark_esrd = dfspark_esrd.withColumn('GPI_30905225', dfspark_esrd['GPI_30905225'].cast(FloatType()))\n",
    "dfspark_esrd = dfspark_esrd.withColumn('GPI_52800020', dfspark_esrd['GPI_52800020'].cast(FloatType()))\n",
    "dfspark_esrd = dfspark_esrd.withColumn('GPI_52800070', dfspark_esrd['GPI_52800070'].cast(FloatType()))\n",
    "dfspark_esrd = dfspark_esrd.withColumn('GPI_78133000', dfspark_esrd['GPI_78133000'].cast(FloatType()))\n",
    "dfspark_esrd = dfspark_esrd.withColumn('CPTOut90951_90962', dfspark_esrd['CPTOut90951_90962'].cast(FloatType()))\n",
    "dfspark_esrd = dfspark_esrd.withColumn('CPTHome90963_90966', dfspark_esrd['CPTHome90963_90966'].cast(FloatType()))\n",
    "dfspark_esrd = dfspark_esrd.withColumn('CPTPartial90967_90970', dfspark_esrd['CPTPartial90967_90970'].cast(FloatType()))\n",
    "dfspark_esrd = dfspark_esrd.withColumn('ESRD_Neph', dfspark_esrd['ESRD_Neph'].cast(FloatType()))\n",
    "dfspark_esrd = dfspark_esrd.withColumn('CKD_post_ESRD', dfspark_esrd['CKD_post_ESRD'].cast(FloatType()))\n",
    "dfspark_esrd = dfspark_esrd.withColumn('ESRD_Enroll_Diff', dfspark_esrd['ESRD_Enroll_Diff'].cast(FloatType()))\n",
    "dfspark_esrd = dfspark_esrd.withColumn('Diag_CPT_Diff', dfspark_esrd['Diag_CPT_Diff'].cast(FloatType()))\n",
    "dfspark_esrd = dfspark_esrd.withColumn('ESRD_Neph_Only', dfspark_esrd['ESRD_Neph_Only'].cast(FloatType()))\n",
    "dfspark_esrd = dfspark_esrd.withColumn('CPT_Enroll_Diff', dfspark_esrd['CPT_Enroll_Diff'].cast(FloatType()))\n",
    "dfspark_esrd = dfspark_esrd.withColumn('BTC_CPT_Diff', dfspark_esrd['BTC_CPT_Diff'].cast(FloatType()))\n",
    "dfspark_esrd = dfspark_esrd.withColumn('insuredMemberGenderCode', dfspark_esrd['insuredMemberGenderCode'].cast(BooleanType()))"
   ]
  },
  {
   "cell_type": "code",
   "execution_count": 17,
   "id": "absolute-reaction",
   "metadata": {},
   "outputs": [
    {
     "data": {
      "application/vnd.jupyter.widget-view+json": {
       "model_id": "",
       "version_major": 2,
       "version_minor": 0
      },
      "text/plain": [
       "FloatProgress(value=0.0, bar_style='info', description='Progress:', layout=Layout(height='25px', width='50%'),…"
      ]
     },
     "metadata": {},
     "output_type": "display_data"
    }
   ],
   "source": [
    "dfspark_esrd = dfspark_esrd.withColumn('Dialysis_and_CKD5', lit(0))\n",
    "dfspark_esrd = dfspark_esrd.withColumn('Dialysis_and_ESRD', lit(0))\n",
    "\n",
    "dfspark_esrd = dfspark_esrd.withColumn(\"Dialysis_and_CKD5\", \\\n",
    "                       when(((dfspark_esrd['`Dialysis_V45.11_Tot`'] > 0)\n",
    "            | (dfspark_esrd[\"`Dialysis_V56.0_Z49.01_Tot`\"] > 0) \n",
    "            | (dfspark_esrd[\"`Dialysis_V56.1_Z49.02_Tot`\"] > 0))\n",
    "            & (dfspark_esrd[\"`CKD5_585.5_N18.5_Tot`\"] > 0), 1).otherwise(0))\n",
    "\n",
    "dfspark_esrd = dfspark_esrd.withColumn(\"Dialysis_and_ESRD\", \\\n",
    "                       when(((dfspark_esrd['`Dialysis_V45.11_Tot`'] > 0)\n",
    "            | (dfspark_esrd[\"`Dialysis_V56.0_Z49.01_Tot`\"] > 0) \n",
    "            | (dfspark_esrd[\"`Dialysis_V56.1_Z49.02_Tot`\"] > 0))\n",
    "            & (dfspark_esrd[\"`ESRD_585.6_N18.6_Tot`\"] > 0), 1).otherwise(0))\n",
    "\n",
    "dfspark_esrd = dfspark_esrd.withColumn(\"insuredMemberGenderCode\", \\\n",
    "                       when((dfspark_esrd['insuredMemberGenderCode'] == 'M'), 0).otherwise(\n",
    "                                            when((dfspark_esrd['insuredMemberGenderCode'] == 'F'), 1).otherwise(0)))"
   ]
  },
  {
   "cell_type": "code",
   "execution_count": 18,
   "id": "beautiful-phone",
   "metadata": {},
   "outputs": [
    {
     "data": {
      "application/vnd.jupyter.widget-view+json": {
       "model_id": "",
       "version_major": 2,
       "version_minor": 0
      },
      "text/plain": [
       "FloatProgress(value=0.0, bar_style='info', description='Progress:', layout=Layout(height='25px', width='50%'),…"
      ]
     },
     "metadata": {},
     "output_type": "display_data"
    }
   ],
   "source": [
    "dfspark_flag = dfspark_flag.withColumn(\"ESRD_Flag\", \\\n",
    "                       when((dfspark_flag['ESRD_Flag'] == 'Y'), 1).otherwise(0))"
   ]
  },
  {
   "cell_type": "code",
   "execution_count": 19,
   "id": "planned-quarterly",
   "metadata": {},
   "outputs": [
    {
     "data": {
      "application/vnd.jupyter.widget-view+json": {
       "model_id": "",
       "version_major": 2,
       "version_minor": 0
      },
      "text/plain": [
       "FloatProgress(value=0.0, bar_style='info', description='Progress:', layout=Layout(height='25px', width='50%'),…"
      ]
     },
     "metadata": {},
     "output_type": "display_data"
    },
    {
     "name": "stdout",
     "output_type": "stream",
     "text": [
      "+---------+-----+\n",
      "|ESRD_Flag|count|\n",
      "+---------+-----+\n",
      "|        1|  160|\n",
      "|        0| 8714|\n",
      "+---------+-----+"
     ]
    }
   ],
   "source": [
    "dfspark_flag.groupby('ESRD_Flag').count().show()"
   ]
  },
  {
   "cell_type": "markdown",
   "id": "general-chapel",
   "metadata": {},
   "source": [
    "## modeling process"
   ]
  },
  {
   "cell_type": "code",
   "execution_count": 20,
   "id": "greater-sacrifice",
   "metadata": {},
   "outputs": [
    {
     "data": {
      "application/vnd.jupyter.widget-view+json": {
       "model_id": "",
       "version_major": 2,
       "version_minor": 0
      },
      "text/plain": [
       "FloatProgress(value=0.0, bar_style='info', description='Progress:', layout=Layout(height='25px', width='50%'),…"
      ]
     },
     "metadata": {},
     "output_type": "display_data"
    }
   ],
   "source": [
    "features = ['insuredMemberGenderCode',\n",
    "     'BTC_Enroll_Diff',\n",
    "     'BTC_721',\n",
    "     'BTC_722',\n",
    "     'BTC_723',\n",
    "     'BTC_724',\n",
    "     'BTC_727',\n",
    "     'BTC_728',\n",
    "     'ESRD_Enroll_Diff',\n",
    "     'CKD_Enroll_Diff',\n",
    "     'CKD_post_ESRD',\n",
    "     'ESRD_Neph',\n",
    "     'CKD_Neph',\n",
    "     'ESRD_Neph_Only',\n",
    "     'ESRD_585.6_N18.6_Tot',\n",
    "     'CKD5_585.5_N18.5_Tot',\n",
    "     'CKD4_585.4_N18.4_Tot',\n",
    "     'CKD5_585.3_N18.3_Tot',\n",
    "     'CKD5_585.2_N18.2_Tot',\n",
    "     'CKD5_585.1_N18.1_Tot',\n",
    "     'Dialysis_V45.11_Tot',\n",
    "     'Dialysis_V56.0_Z49.01_Tot',\n",
    "     'Dialysis_V56.1_Z49.02_Tot',\n",
    "     'AKI_Tot',\n",
    "     'GPI_30905225',\n",
    "     'GPI_52800020',\n",
    "     'GPI_52800070',\n",
    "     'GPI_78133000',\n",
    "     'CPT_Enroll_Diff',\n",
    "     'CPTOut90951_90962',\n",
    "     'CPTHome90963_90966',\n",
    "     'CPTPartial90967_90970',\n",
    "     'BTC_Diag_Diff',\n",
    "     'BTC_CPT_Diff',\n",
    "     'Diag_CPT_Diff',\n",
    "     'Age1',\n",
    "     'Dialysis_and_CKD5',\n",
    "     'Dialysis_and_ESRD']"
   ]
  },
  {
   "cell_type": "code",
   "execution_count": 21,
   "id": "australian-cattle",
   "metadata": {},
   "outputs": [
    {
     "data": {
      "application/vnd.jupyter.widget-view+json": {
       "model_id": "",
       "version_major": 2,
       "version_minor": 0
      },
      "text/plain": [
       "FloatProgress(value=0.0, bar_style='info', description='Progress:', layout=Layout(height='25px', width='50%'),…"
      ]
     },
     "metadata": {},
     "output_type": "display_data"
    }
   ],
   "source": [
    "df = dfspark_esrd.withColumn('insuredMemberIdentifier', dfspark_esrd['insuredMemberIdentifier'].cast(StringType()))\n",
    "df = df.select('insuredMemberIdentifier')"
   ]
  },
  {
   "cell_type": "code",
   "execution_count": 22,
   "id": "speaking-camera",
   "metadata": {},
   "outputs": [
    {
     "data": {
      "application/vnd.jupyter.widget-view+json": {
       "model_id": "",
       "version_major": 2,
       "version_minor": 0
      },
      "text/plain": [
       "FloatProgress(value=0.0, bar_style='info', description='Progress:', layout=Layout(height='25px', width='50%'),…"
      ]
     },
     "metadata": {},
     "output_type": "display_data"
    }
   ],
   "source": [
    "dfspark_esrd = dfspark_esrd.join(dfspark_flag, 'insuredMemberIdentifier')"
   ]
  },
  {
   "cell_type": "code",
   "execution_count": 7,
   "id": "floppy-biodiversity",
   "metadata": {},
   "outputs": [
    {
     "data": {
      "application/vnd.jupyter.widget-view+json": {
       "model_id": "",
       "version_major": 2,
       "version_minor": 0
      },
      "text/plain": [
       "FloatProgress(value=0.0, bar_style='info', description='Progress:', layout=Layout(height='25px', width='50%'),…"
      ]
     },
     "metadata": {},
     "output_type": "display_data"
    },
    {
     "name": "stdout",
     "output_type": "stream",
     "text": [
      "[15:09:15] WARNING: /tmp/pip-build-qbfnnz8r/xgboost/build/temp.linux-x86_64-3.7/xgboost/src/learner.cc:790: Loading model from XGBoost < 1.0.0, consider saving it again for improved compatibility"
     ]
    }
   ],
   "source": [
    "xgbc = xgb.XGBClassifier()\n",
    "xgbc.load_model(\"xgboost_native_model_from_xgb_ESRD_production.pkl-0.bin\")"
   ]
  },
  {
   "cell_type": "code",
   "execution_count": 15,
   "id": "black-guidance",
   "metadata": {},
   "outputs": [
    {
     "data": {
      "application/vnd.jupyter.widget-view+json": {
       "model_id": "",
       "version_major": 2,
       "version_minor": 0
      },
      "text/plain": [
       "FloatProgress(value=0.0, bar_style='info', description='Progress:', layout=Layout(height='25px', width='50%'),…"
      ]
     },
     "metadata": {},
     "output_type": "display_data"
    }
   ],
   "source": [
    "xgbc.save_model(\"thrisha_test.bin\")"
   ]
  },
  {
   "cell_type": "code",
   "execution_count": 13,
   "id": "printable-greene",
   "metadata": {},
   "outputs": [
    {
     "data": {
      "application/vnd.jupyter.widget-view+json": {
       "model_id": "",
       "version_major": 2,
       "version_minor": 0
      },
      "text/plain": [
       "FloatProgress(value=0.0, bar_style='info', description='Progress:', layout=Layout(height='25px', width='50%'),…"
      ]
     },
     "metadata": {},
     "output_type": "display_data"
    },
    {
     "name": "stderr",
     "output_type": "stream",
     "text": [
      "An error was encountered:\n",
      "name 'dfspark_esrd' is not defined\n",
      "Traceback (most recent call last):\n",
      "NameError: name 'dfspark_esrd' is not defined\n",
      "\n"
     ]
    }
   ],
   "source": [
    "dfspark_esrd_model = dfspark_esrd.select(\"insuredMemberGenderCode\",\n",
    "     \"BTC_Enroll_Diff\",\n",
    "     \"BTC_721\",\n",
    "     \"BTC_722\",\n",
    "     \"BTC_723\",\n",
    "     \"BTC_724\",\n",
    "     \"BTC_727\",\n",
    "     \"BTC_728\",\n",
    "     \"ESRD_Enroll_Diff\",\n",
    "     \"CKD_Enroll_Diff\",\n",
    "     \"CKD_post_ESRD\",\n",
    "     \"ESRD_Neph\",\n",
    "     \"CKD_Neph\",\n",
    "     \"ESRD_Neph_Only\",\n",
    "     '`ESRD_585.6_N18.6_Tot`',\n",
    "     '`CKD5_585.5_N18.5_Tot`',\n",
    "     '`CKD4_585.4_N18.4_Tot`',\n",
    "     '`CKD5_585.3_N18.3_Tot`',\n",
    "     '`CKD5_585.2_N18.2_Tot`',\n",
    "     '`CKD5_585.1_N18.1_Tot`',\n",
    "     '`Dialysis_V45.11_Tot`',\n",
    "     '`Dialysis_V56.0_Z49.01_Tot`',\n",
    "     '`Dialysis_V56.1_Z49.02_Tot`',\n",
    "     \"AKI_Tot\",\n",
    "     \"GPI_30905225\",\n",
    "     \"GPI_52800020\",\n",
    "     \"GPI_52800070\",\n",
    "     \"GPI_78133000\",\n",
    "     \"CPT_Enroll_Diff\",\n",
    "     \"CPTOut90951_90962\",\n",
    "     \"CPTHome90963_90966\",\n",
    "     \"CPTPartial90967_90970\",\n",
    "     \"BTC_Diag_Diff\",\n",
    "     \"BTC_CPT_Diff\",\n",
    "     \"Diag_CPT_Diff\",\n",
    "     \"Age1\",\n",
    "     \"Dialysis_and_CKD5\",\n",
    "     \"Dialysis_and_ESRD\")"
   ]
  },
  {
   "cell_type": "code",
   "execution_count": 25,
   "id": "accomplished-oasis",
   "metadata": {},
   "outputs": [
    {
     "data": {
      "application/vnd.jupyter.widget-view+json": {
       "model_id": "",
       "version_major": 2,
       "version_minor": 0
      },
      "text/plain": [
       "FloatProgress(value=0.0, bar_style='info', description='Progress:', layout=Layout(height='25px', width='50%'),…"
      ]
     },
     "metadata": {},
     "output_type": "display_data"
    },
    {
     "name": "stdout",
     "output_type": "stream",
     "text": [
      "Row(insuredMemberGenderCode=0, BTC_Enroll_Diff=None, BTC_721=None, BTC_722=None, BTC_723=None, BTC_724=None, BTC_727=None, BTC_728=None, ESRD_Enroll_Diff=None, CKD_Enroll_Diff=593, CKD_post_ESRD=None, ESRD_Neph=0.0, CKD_Neph=0, ESRD_Neph_Only=0.0, ESRD_585.6_N18.6_Tot=0, CKD5_585.5_N18.5_Tot=0, CKD4_585.4_N18.4_Tot=0, CKD5_585.3_N18.3_Tot=2, CKD5_585.2_N18.2_Tot=0, CKD5_585.1_N18.1_Tot=0, Dialysis_V45.11_Tot=0, Dialysis_V56.0_Z49.01_Tot=0, Dialysis_V56.1_Z49.02_Tot=0, AKI_Tot=0, GPI_30905225=0.0, GPI_52800020=0.0, GPI_52800070=0.0, GPI_78133000=0.0, CPT_Enroll_Diff=None, CPTOut90951_90962=None, CPTHome90963_90966=None, CPTPartial90967_90970=None, BTC_Diag_Diff=None, BTC_CPT_Diff=None, Diag_CPT_Diff=None, Age1=73, Dialysis_and_CKD5=0, Dialysis_and_ESRD=0)"
     ]
    }
   ],
   "source": [
    "dfspark_esrd_model.head()"
   ]
  },
  {
   "cell_type": "code",
   "execution_count": 26,
   "id": "significant-blond",
   "metadata": {},
   "outputs": [
    {
     "data": {
      "application/vnd.jupyter.widget-view+json": {
       "model_id": "",
       "version_major": 2,
       "version_minor": 0
      },
      "text/plain": [
       "FloatProgress(value=0.0, bar_style='info', description='Progress:', layout=Layout(height='25px', width='50%'),…"
      ]
     },
     "metadata": {},
     "output_type": "display_data"
    }
   ],
   "source": [
    "df_model=dfspark_esrd_model.toPandas()"
   ]
  },
  {
   "cell_type": "code",
   "execution_count": null,
   "id": "instant-quebec",
   "metadata": {},
   "outputs": [],
   "source": []
  },
  {
   "cell_type": "code",
   "execution_count": 27,
   "id": "sunset-daily",
   "metadata": {},
   "outputs": [
    {
     "data": {
      "application/vnd.jupyter.widget-view+json": {
       "model_id": "",
       "version_major": 2,
       "version_minor": 0
      },
      "text/plain": [
       "FloatProgress(value=0.0, bar_style='info', description='Progress:', layout=Layout(height='25px', width='50%'),…"
      ]
     },
     "metadata": {},
     "output_type": "display_data"
    },
    {
     "name": "stdout",
     "output_type": "stream",
     "text": [
      "array([0.00219146, 0.00153974, 0.006097  , ..., 0.00154413, 0.0130042 ,\n",
      "       0.00020546], dtype=float32)"
     ]
    }
   ],
   "source": [
    "xgbc.predict_proba(dfspark_esrd_model.toPandas())[:,1]"
   ]
  },
  {
   "cell_type": "code",
   "execution_count": null,
   "id": "vertical-rachel",
   "metadata": {},
   "outputs": [],
   "source": []
  },
  {
   "cell_type": "code",
   "execution_count": null,
   "id": "corrected-treasury",
   "metadata": {},
   "outputs": [],
   "source": []
  },
  {
   "cell_type": "code",
   "execution_count": 28,
   "id": "working-amplifier",
   "metadata": {},
   "outputs": [
    {
     "data": {
      "application/vnd.jupyter.widget-view+json": {
       "model_id": "",
       "version_major": 2,
       "version_minor": 0
      },
      "text/plain": [
       "FloatProgress(value=0.0, bar_style='info', description='Progress:', layout=Layout(height='25px', width='50%'),…"
      ]
     },
     "metadata": {},
     "output_type": "display_data"
    }
   ],
   "source": [
    "df=dfspark_esrd.toPandas()[['insuredMemberIdentifier']]\n",
    "df['Predict']=xgbc.predict_proba(dfspark_esrd_model.toPandas())[:,1]"
   ]
  },
  {
   "cell_type": "code",
   "execution_count": 29,
   "id": "adjacent-condition",
   "metadata": {},
   "outputs": [
    {
     "data": {
      "application/vnd.jupyter.widget-view+json": {
       "model_id": "",
       "version_major": 2,
       "version_minor": 0
      },
      "text/plain": [
       "FloatProgress(value=0.0, bar_style='info', description='Progress:', layout=Layout(height='25px', width='50%'),…"
      ]
     },
     "metadata": {},
     "output_type": "display_data"
    },
    {
     "name": "stdout",
     "output_type": "stream",
     "text": [
      "     insuredMemberIdentifier   Predict\n",
      "0                1A14UC6DG85  0.002191\n",
      "1                1AE3KH7NQ04  0.001540\n",
      "2                1AH2UQ9UR28  0.006097\n",
      "3                1AW0V53HF49  0.026871\n",
      "4                1CU2FT1QR97  0.000249\n",
      "...                      ...       ...\n",
      "8869             9FY3RR4DF01  0.002874\n",
      "8870             9JF4UU2KY82  0.000213\n",
      "8871             9QV8U29EM44  0.001544\n",
      "8872             9U79G07QP27  0.013004\n",
      "8873             9VK7H56UP20  0.000205\n",
      "\n",
      "[8874 rows x 2 columns]"
     ]
    }
   ],
   "source": [
    "df"
   ]
  },
  {
   "cell_type": "code",
   "execution_count": null,
   "id": "bottom-tamil",
   "metadata": {},
   "outputs": [],
   "source": []
  },
  {
   "cell_type": "code",
   "execution_count": null,
   "id": "lovely-flesh",
   "metadata": {},
   "outputs": [],
   "source": []
  },
  {
   "cell_type": "code",
   "execution_count": 30,
   "id": "suited-universe",
   "metadata": {},
   "outputs": [
    {
     "data": {
      "application/vnd.jupyter.widget-view+json": {
       "model_id": "",
       "version_major": 2,
       "version_minor": 0
      },
      "text/plain": [
       "FloatProgress(value=0.0, bar_style='info', description='Progress:', layout=Layout(height='25px', width='50%'),…"
      ]
     },
     "metadata": {},
     "output_type": "display_data"
    },
    {
     "name": "stdout",
     "output_type": "stream",
     "text": [
      "0.7589800357818604"
     ]
    }
   ],
   "source": [
    "start = time.time()\n",
    "explainerXGB = shap.TreeExplainer(xgbc)\n",
    "end = time.time()\n",
    "print(end - start)"
   ]
  },
  {
   "cell_type": "code",
   "execution_count": 31,
   "id": "controversial-trinity",
   "metadata": {},
   "outputs": [
    {
     "data": {
      "application/vnd.jupyter.widget-view+json": {
       "model_id": "",
       "version_major": 2,
       "version_minor": 0
      },
      "text/plain": [
       "FloatProgress(value=0.0, bar_style='info', description='Progress:', layout=Layout(height='25px', width='50%'),…"
      ]
     },
     "metadata": {},
     "output_type": "display_data"
    }
   ],
   "source": [
    "df_esrd_pandas = dfspark_esrd_model.toPandas()"
   ]
  },
  {
   "cell_type": "code",
   "execution_count": 32,
   "id": "manual-training",
   "metadata": {},
   "outputs": [
    {
     "data": {
      "application/vnd.jupyter.widget-view+json": {
       "model_id": "",
       "version_major": 2,
       "version_minor": 0
      },
      "text/plain": [
       "FloatProgress(value=0.0, bar_style='info', description='Progress:', layout=Layout(height='25px', width='50%'),…"
      ]
     },
     "metadata": {},
     "output_type": "display_data"
    },
    {
     "name": "stdout",
     "output_type": "stream",
     "text": [
      "4.325282573699951"
     ]
    }
   ],
   "source": [
    "start = time.time()\n",
    "shap_values_XGB_test = explainerXGB.shap_values(df_esrd_pandas)\n",
    "end = time.time()\n",
    "print(end - start)"
   ]
  },
  {
   "cell_type": "code",
   "execution_count": 33,
   "id": "opponent-morning",
   "metadata": {},
   "outputs": [
    {
     "data": {
      "application/vnd.jupyter.widget-view+json": {
       "model_id": "",
       "version_major": 2,
       "version_minor": 0
      },
      "text/plain": [
       "FloatProgress(value=0.0, bar_style='info', description='Progress:', layout=Layout(height='25px', width='50%'),…"
      ]
     },
     "metadata": {},
     "output_type": "display_data"
    }
   ],
   "source": [
    "df_current=df_esrd_pandas.copy()"
   ]
  },
  {
   "cell_type": "code",
   "execution_count": 34,
   "id": "young-privacy",
   "metadata": {},
   "outputs": [
    {
     "data": {
      "application/vnd.jupyter.widget-view+json": {
       "model_id": "",
       "version_major": 2,
       "version_minor": 0
      },
      "text/plain": [
       "FloatProgress(value=0.0, bar_style='info', description='Progress:', layout=Layout(height='25px', width='50%'),…"
      ]
     },
     "metadata": {},
     "output_type": "display_data"
    },
    {
     "name": "stdout",
     "output_type": "stream",
     "text": [
      "106.92163133621216"
     ]
    }
   ],
   "source": [
    "start = time.time()\n",
    "for idx, row in df_current.iterrows():\n",
    "    row2=df_current.iloc[[idx]]\n",
    "    shap_values = explainerXGB.shap_values(row2[features])\n",
    "    #which_class = df_current.at[idx,'y_pred']\n",
    "    df=pd.DataFrame(data=shap_values, columns=df_current[features].columns, index=[0])\n",
    "    df1 = df.transpose()\n",
    "    df1.sort_values(by=0, ascending=False, inplace = True)\n",
    "    #df1.drop(['year', 'MMRMonthKey_x'], inplace=True)\n",
    "    for i in range(0,5):\n",
    "        feature = df1.index.values[i]        \n",
    "        value=df_current.at[idx,feature]\n",
    "        if pd.isnull(value):\n",
    "            value='unknown'\n",
    "        feat_val=str(str(feature) + \" = \" + str(value))\n",
    "        feat_insert=\"Feature_{0}\".format(i+1)\n",
    "        df_current.at[idx,feat_insert]=feat_val\n",
    "end = time.time()\n",
    "print(end-start)"
   ]
  },
  {
   "cell_type": "code",
   "execution_count": 42,
   "id": "injured-python",
   "metadata": {},
   "outputs": [
    {
     "data": {
      "application/vnd.jupyter.widget-view+json": {
       "model_id": "",
       "version_major": 2,
       "version_minor": 0
      },
      "text/plain": [
       "FloatProgress(value=0.0, bar_style='info', description='Progress:', layout=Layout(height='25px', width='50%'),…"
      ]
     },
     "metadata": {},
     "output_type": "display_data"
    },
    {
     "name": "stdout",
     "output_type": "stream",
     "text": [
      "array([[ 6.7322724e-02,  2.6095415e-02,  4.4856690e-02, ...,\n",
      "        -2.3927472e-03,  6.8514462e-05,  1.2972498e-02],\n",
      "       [ 7.5177960e-02, -5.2355215e-02,  5.3355447e-03, ...,\n",
      "        -8.2429403e-01, -2.0075794e-03,  1.2209073e-02],\n",
      "       [-5.5508822e-02, -1.8135859e-02,  2.3956191e-02, ...,\n",
      "        -6.1215156e-01, -1.3121758e-03,  1.4973300e-02],\n",
      "       ...,\n",
      "       [-1.0125050e-03,  3.2243479e-02,  3.8200095e-02, ...,\n",
      "         6.8931282e-02,  1.8247191e-03,  1.6935965e-02],\n",
      "       [-3.4428257e-02,  4.5973323e-02,  2.6642224e-02, ...,\n",
      "         3.6768466e-01,  3.3664829e-03,  2.2450807e-02],\n",
      "       [-1.4953499e-01,  2.0841235e-02,  5.0572913e-02, ...,\n",
      "        -5.7612855e-02, -7.4988994e-04,  2.7655648e-02]], dtype=float32)"
     ]
    }
   ],
   "source": [
    "shap_values_XGB_test"
   ]
  },
  {
   "cell_type": "code",
   "execution_count": 45,
   "id": "sticky-resort",
   "metadata": {},
   "outputs": [
    {
     "data": {
      "application/vnd.jupyter.widget-view+json": {
       "model_id": "",
       "version_major": 2,
       "version_minor": 0
      },
      "text/plain": [
       "FloatProgress(value=0.0, bar_style='info', description='Progress:', layout=Layout(height='25px', width='50%'),…"
      ]
     },
     "metadata": {},
     "output_type": "display_data"
    },
    {
     "name": "stdout",
     "output_type": "stream",
     "text": [
      "   insuredMemberGenderCode  ...                    Feature_5\n",
      "0                        0  ...                  AKI_Tot = 0\n",
      "1                        1  ...    BTC_Enroll_Diff = unknown\n",
      "2                        0  ...  insuredMemberGenderCode = 0\n",
      "3                        1  ...    BTC_Enroll_Diff = unknown\n",
      "4                        1  ...        Dialysis_and_ESRD = 0\n",
      "\n",
      "[5 rows x 43 columns]"
     ]
    }
   ],
   "source": [
    "df_current.head()"
   ]
  },
  {
   "cell_type": "code",
   "execution_count": 47,
   "id": "considered-return",
   "metadata": {},
   "outputs": [
    {
     "data": {
      "application/vnd.jupyter.widget-view+json": {
       "model_id": "",
       "version_major": 2,
       "version_minor": 0
      },
      "text/plain": [
       "FloatProgress(value=0.0, bar_style='info', description='Progress:', layout=Layout(height='25px', width='50%'),…"
      ]
     },
     "metadata": {},
     "output_type": "display_data"
    }
   ],
   "source": [
    "df=dfspark_esrd.toPandas()[['insuredMemberIdentifier']]\n",
    "df['Predict']=xgbc.predict_proba(dfspark_esrd_model.toPandas())[:,1]\n",
    "df['Feature_1']=df_current['Feature_1']\n",
    "df['Feature_2']=df_current['Feature_2']\n",
    "df['Feature_3']=df_current['Feature_3']\n",
    "df['Feature_4']=df_current['Feature_4']\n",
    "df['Feature_5']=df_current['Feature_5']"
   ]
  },
  {
   "cell_type": "code",
   "execution_count": 64,
   "id": "numeric-plaza",
   "metadata": {},
   "outputs": [
    {
     "data": {
      "application/vnd.jupyter.widget-view+json": {
       "model_id": "",
       "version_major": 2,
       "version_minor": 0
      },
      "text/plain": [
       "FloatProgress(value=0.0, bar_style='info', description='Progress:', layout=Layout(height='25px', width='50%'),…"
      ]
     },
     "metadata": {},
     "output_type": "display_data"
    },
    {
     "name": "stdout",
     "output_type": "stream",
     "text": [
      "     insuredMemberIdentifier   Predict                    Feature_1  \\\n",
      "6084             4F53DR3UA74  0.000045            BTC_723 = unknown   \n",
      "27               1X14P21EE63  0.000061            BTC_723 = unknown   \n",
      "95               3UN4EJ5XV94  0.000065            BTC_723 = unknown   \n",
      "6911             7NM8NP2NP38  0.000068            BTC_723 = unknown   \n",
      "8549             4HA2XG2UX87  0.000079  insuredMemberGenderCode = 0   \n",
      "...                      ...       ...                          ...   \n",
      "1435             1VY6HF2GA30  0.986265                BTC_722 = 0.0   \n",
      "7767             2GE8KP4UF46  0.986752                BTC_722 = 0.0   \n",
      "1275             5XX5TT3XD89  0.986887                BTC_722 = 0.0   \n",
      "841              4RC8UX7KC31  0.990470                BTC_722 = 0.0   \n",
      "2967             5PU7XH6QT50  0.991807       ESRD_Enroll_Diff = 8.0   \n",
      "\n",
      "                    Feature_2                     Feature_3  \\\n",
      "6084          ESRD_Neph = 0.0         Dialysis_and_ESRD = 0   \n",
      "27            ESRD_Neph = 0.0         Dialysis_and_ESRD = 0   \n",
      "95            ESRD_Neph = 0.0         Dialysis_and_ESRD = 0   \n",
      "6911          ESRD_Neph = 0.0  CPTHome90963_90966 = unknown   \n",
      "8549        BTC_723 = unknown               ESRD_Neph = 0.0   \n",
      "...                       ...                           ...   \n",
      "1435  ESRD_Enroll_Diff = 27.0         BTC_Diag_Diff = 153.0   \n",
      "7767   ESRD_Enroll_Diff = 2.0           BTC_Diag_Diff = 1.0   \n",
      "1275   CPT_Enroll_Diff = 28.0      Dialysis_V45.11_Tot = 23   \n",
      "841   ESRD_Enroll_Diff = 10.0      Dialysis_V45.11_Tot = 39   \n",
      "2967            BTC_722 = 0.0     ESRD_585.6_N18.6_Tot = 40   \n",
      "\n",
      "                         Feature_4                     Feature_5  \n",
      "6084  CPTHome90963_90966 = unknown          ESRD_Neph_Only = 0.0  \n",
      "27    CPTHome90963_90966 = unknown          ESRD_Neph_Only = 0.0  \n",
      "95    CPTHome90963_90966 = unknown          ESRD_Neph_Only = 0.0  \n",
      "6911         Dialysis_and_ESRD = 0          ESRD_Neph_Only = 0.0  \n",
      "8549         Dialysis_and_ESRD = 0  CPTHome90963_90966 = unknown  \n",
      "...                            ...                           ...  \n",
      "1435      Dialysis_V45.11_Tot = 21        CPT_Enroll_Diff = 29.0  \n",
      "7767      Dialysis_V45.11_Tot = 20       CKD_Enroll_Diff = 838.0  \n",
      "1275       ESRD_Enroll_Diff = 28.0          BTC_Diag_Diff = 32.0  \n",
      "841         CPT_Enroll_Diff = 28.0          BTC_Diag_Diff = 50.0  \n",
      "2967        CPT_Enroll_Diff = 28.0          BTC_Diag_Diff = 51.0  \n",
      "\n",
      "[8874 rows x 7 columns]"
     ]
    }
   ],
   "source": [
    "df.sort_values(by=['Predict'])"
   ]
  },
  {
   "cell_type": "code",
   "execution_count": 60,
   "id": "dressed-diana",
   "metadata": {},
   "outputs": [
    {
     "data": {
      "application/vnd.jupyter.widget-view+json": {
       "model_id": "",
       "version_major": 2,
       "version_minor": 0
      },
      "text/plain": [
       "FloatProgress(value=0.0, bar_style='info', description='Progress:', layout=Layout(height='25px', width='50%'),…"
      ]
     },
     "metadata": {},
     "output_type": "display_data"
    }
   ],
   "source": [
    "pd.set_option('display.max_columns',None)"
   ]
  },
  {
   "cell_type": "code",
   "execution_count": null,
   "id": "clear-optics",
   "metadata": {},
   "outputs": [],
   "source": []
  },
  {
   "cell_type": "code",
   "execution_count": null,
   "id": "large-population",
   "metadata": {},
   "outputs": [],
   "source": []
  }
 ],
 "metadata": {
  "kernelspec": {
   "display_name": "PySpark",
   "language": "python",
   "name": "pysparkkernel"
  },
  "language_info": {
   "codemirror_mode": {
    "name": "python",
    "version": 3
   },
   "file_extension": ".py",
   "mimetype": "text/x-python",
   "name": "pyspark",
   "pygments_lexer": "python3"
  }
 },
 "nbformat": 4,
 "nbformat_minor": 5
}
